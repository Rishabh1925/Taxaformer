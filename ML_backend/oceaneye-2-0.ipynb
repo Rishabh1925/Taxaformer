{
 "cells": [
  {
   "cell_type": "code",
   "execution_count": null,
   "metadata": {
    "_cell_guid": "1f81f008-0245-4917-a3fd-e58dc1374cc9",
    "_uuid": "6ea156d1-1049-4b7f-bb49-0afbc62c716a",
    "collapsed": false,
    "jupyter": {
     "outputs_hidden": false
    },
    "scrolled": true,
    "trusted": true
   },
   "outputs": [],
   "source": [
    "# Cell 1: Install Libraries\n",
    "!pip install transformers torch biopython\n",
    "!pip install faiss-cpu \n",
    "!pip install hdbscan\n",
    "!pip install umap-learn\n",
    "!pip install matplotlib seaborn pandas numpy"
   ]
  },
  {
   "cell_type": "code",
   "execution_count": 11,
   "metadata": {
    "execution": {
     "iopub.execute_input": "2025-09-29T09:54:20.971791Z",
     "iopub.status.busy": "2025-09-29T09:54:20.971094Z",
     "iopub.status.idle": "2025-09-29T09:54:21.085425Z",
     "shell.execute_reply": "2025-09-29T09:54:21.084691Z",
     "shell.execute_reply.started": "2025-09-29T09:54:20.971766Z"
    },
    "trusted": true
   },
   "outputs": [],
   "source": [
    "from kaggle_secrets import UserSecretsClient\n",
    "user_secrets = UserSecretsClient()\n",
    "secret_value_0 = user_secrets.get_secret(\"HUGGING_FACE_TOKEN\")\n"
   ]
  },
  {
   "cell_type": "code",
   "execution_count": 27,
   "metadata": {
    "_cell_guid": "31b4b776-5189-426e-95a1-756d6318c339",
    "_uuid": "af5035f3-be79-45fb-98c6-feae7fd2c145",
    "collapsed": false,
    "execution": {
     "iopub.execute_input": "2025-09-29T11:13:43.507252Z",
     "iopub.status.busy": "2025-09-29T11:13:43.506650Z",
     "iopub.status.idle": "2025-09-29T11:13:52.928775Z",
     "shell.execute_reply": "2025-09-29T11:13:52.928058Z",
     "shell.execute_reply.started": "2025-09-29T11:13:43.507227Z"
    },
    "jupyter": {
     "outputs_hidden": false
    },
    "trusted": true
   },
   "outputs": [
    {
     "name": "stdout",
     "output_type": "stream",
     "text": [
      "Loaded 500 sequences from the dataset.\n",
      "\n",
      "Fetching taxonomic data for 500 sequences...\n",
      "\n",
      "✅ Successfully fetched taxonomic ground truth!\n",
      "\n",
      "✅ Successfully simulated environmental metadata.\n",
      "\n",
      "Final prepared DataFrame:\n"
     ]
    },
    {
     "data": {
      "text/html": [
       "<div>\n",
       "<style scoped>\n",
       "    .dataframe tbody tr th:only-of-type {\n",
       "        vertical-align: middle;\n",
       "    }\n",
       "\n",
       "    .dataframe tbody tr th {\n",
       "        vertical-align: top;\n",
       "    }\n",
       "\n",
       "    .dataframe thead th {\n",
       "        text-align: right;\n",
       "    }\n",
       "</style>\n",
       "<table border=\"1\" class=\"dataframe\">\n",
       "  <thead>\n",
       "    <tr style=\"text-align: right;\">\n",
       "      <th></th>\n",
       "      <th>Sequence_ID</th>\n",
       "      <th>sequence</th>\n",
       "      <th>organism</th>\n",
       "      <th>latitude</th>\n",
       "      <th>longitude</th>\n",
       "      <th>depth</th>\n",
       "      <th>temperature</th>\n",
       "    </tr>\n",
       "  </thead>\n",
       "  <tbody>\n",
       "    <tr>\n",
       "      <th>0</th>\n",
       "      <td>NR_155862.1</td>\n",
       "      <td>TAGGTGAACCTGCGGAAGGATCATTAATTACGCAAGCTATAGCCCC...</td>\n",
       "      <td>Stagonospora bicolor</td>\n",
       "      <td>48.067586</td>\n",
       "      <td>38.168752</td>\n",
       "      <td>4264</td>\n",
       "      <td>4.618557</td>\n",
       "    </tr>\n",
       "    <tr>\n",
       "      <th>1</th>\n",
       "      <td>NR_145409.1</td>\n",
       "      <td>GGAAGTAAAAGTCGTAACAAGGTCTCCGTTGGTGAACCAGCGGAGG...</td>\n",
       "      <td>Phaeoacremonium parasiticum</td>\n",
       "      <td>-3.607530</td>\n",
       "      <td>36.289027</td>\n",
       "      <td>4481</td>\n",
       "      <td>14.029952</td>\n",
       "    </tr>\n",
       "    <tr>\n",
       "      <th>2</th>\n",
       "      <td>NR_172389.1</td>\n",
       "      <td>TCTCCGTTGGTGAACCAGCGGAGGGATCATTACCGAGTTTACAACT...</td>\n",
       "      <td>Fusarium ventricosum</td>\n",
       "      <td>30.890088</td>\n",
       "      <td>-100.623623</td>\n",
       "      <td>3264</td>\n",
       "      <td>14.792909</td>\n",
       "    </tr>\n",
       "    <tr>\n",
       "      <th>3</th>\n",
       "      <td>NR_111889.1</td>\n",
       "      <td>TCCGTTGGTGAACCAGCGGAGGGGTCATTACCGAGTTTACAACTCC...</td>\n",
       "      <td>Fusarium fujikuroi</td>\n",
       "      <td>-41.919221</td>\n",
       "      <td>-19.739267</td>\n",
       "      <td>2249</td>\n",
       "      <td>3.152296</td>\n",
       "    </tr>\n",
       "    <tr>\n",
       "      <th>4</th>\n",
       "      <td>NR_120297.1</td>\n",
       "      <td>TAGAAGTCGTAACAAGGTCTCCGTTGGTGAACCAGCGGAGGGATCA...</td>\n",
       "      <td>Trichoderma reesei</td>\n",
       "      <td>14.918092</td>\n",
       "      <td>108.635769</td>\n",
       "      <td>153</td>\n",
       "      <td>5.736544</td>\n",
       "    </tr>\n",
       "  </tbody>\n",
       "</table>\n",
       "</div>"
      ],
      "text/plain": [
       "   Sequence_ID                                           sequence  \\\n",
       "0  NR_155862.1  TAGGTGAACCTGCGGAAGGATCATTAATTACGCAAGCTATAGCCCC...   \n",
       "1  NR_145409.1  GGAAGTAAAAGTCGTAACAAGGTCTCCGTTGGTGAACCAGCGGAGG...   \n",
       "2  NR_172389.1  TCTCCGTTGGTGAACCAGCGGAGGGATCATTACCGAGTTTACAACT...   \n",
       "3  NR_111889.1  TCCGTTGGTGAACCAGCGGAGGGGTCATTACCGAGTTTACAACTCC...   \n",
       "4  NR_120297.1  TAGAAGTCGTAACAAGGTCTCCGTTGGTGAACCAGCGGAGGGATCA...   \n",
       "\n",
       "                      organism   latitude   longitude  depth  temperature  \n",
       "0         Stagonospora bicolor  48.067586   38.168752   4264     4.618557  \n",
       "1  Phaeoacremonium parasiticum  -3.607530   36.289027   4481    14.029952  \n",
       "2         Fusarium ventricosum  30.890088 -100.623623   3264    14.792909  \n",
       "3           Fusarium fujikuroi -41.919221  -19.739267   2249     3.152296  \n",
       "4           Trichoderma reesei  14.918092  108.635769    153     5.736544  "
      ]
     },
     "metadata": {},
     "output_type": "display_data"
    }
   ],
   "source": [
    "# Cell 2: Load Data and Fetch Ground Truth\n",
    "import pandas as pd\n",
    "from Bio import SeqIO\n",
    "import numpy as np\n",
    "from Bio import Entrez\n",
    "import time\n",
    "\n",
    "# --- Configuration ---\n",
    "# You can change these two variables to run on a different file or change the sample size\n",
    "FASTA_PATH = \"/kaggle/input/16s-rrna-marine-db/ITS_RefSeq_Fungi.fasta\"\n",
    "SAMPLE_SIZE = 500\n",
    "ENTREZ_EMAIL = \"gadhpranay@gmail.com\"\n",
    "\n",
    "# 1. Load sequences from the real FASTA file\n",
    "sequences = []\n",
    "for record in SeqIO.parse(FASTA_PATH, \"fasta\"):\n",
    "    sequences.append({'Sequence_ID': record.id, 'sequence': str(record.seq)})\n",
    "    if len(sequences) >= SAMPLE_SIZE:\n",
    "        break\n",
    "df = pd.DataFrame(sequences)\n",
    "print(f\"Loaded {len(df)} sequences from the dataset.\")\n",
    "\n",
    "\n",
    "# 2. Fetch the true organism names from NCBI using Entrez\n",
    "Entrez.email = ENTREZ_EMAIL\n",
    "accession_ids = df['Sequence_ID'].tolist()\n",
    "print(f\"\\nFetching taxonomic data for {len(accession_ids)} sequences...\")\n",
    "\n",
    "all_organisms = {}\n",
    "for i in range(0, len(accession_ids), 100):\n",
    "    batch_ids = accession_ids[i:i+100]\n",
    "    try:\n",
    "        handle = Entrez.efetch(db=\"nuccore\", id=batch_ids, rettype=\"gb\", retmode=\"xml\")\n",
    "        records = Entrez.read(handle)\n",
    "        handle.close()\n",
    "        for record in records:\n",
    "            acc_id = record['GBSeq_accession-version']\n",
    "            organism = record.get('GBSeq_organism', 'Unknown')\n",
    "            all_organisms[acc_id] = organism\n",
    "    except Exception as e:\n",
    "        print(f\"An error occurred for batch {i}-{i+100}: {e}\")\n",
    "    time.sleep(1) # Be polite to NCBI's servers\n",
    "\n",
    "df['organism'] = df['Sequence_ID'].map(all_organisms)\n",
    "print(\"\\n✅ Successfully fetched taxonomic ground truth!\")\n",
    "\n",
    "\n",
    "# 3. Simulate environmental metadata\n",
    "num_samples = len(df)\n",
    "df['latitude'] = np.random.uniform(-60, 60, num_samples)\n",
    "df['longitude'] = np.random.uniform(-180, 180, num_samples)\n",
    "df['depth'] = np.random.randint(100, 5000, num_samples)\n",
    "df['temperature'] = np.random.uniform(1, 15, num_samples)\n",
    "print(\"\\n✅ Successfully simulated environmental metadata.\")\n",
    "\n",
    "print(\"\\nFinal prepared DataFrame:\")\n",
    "display(df.head())"
   ]
  },
  {
   "cell_type": "code",
   "execution_count": 13,
   "metadata": {
    "execution": {
     "iopub.execute_input": "2025-09-29T09:57:32.844513Z",
     "iopub.status.busy": "2025-09-29T09:57:32.844218Z",
     "iopub.status.idle": "2025-09-29T09:57:42.985246Z",
     "shell.execute_reply": "2025-09-29T09:57:42.984524Z",
     "shell.execute_reply.started": "2025-09-29T09:57:32.844466Z"
    },
    "trusted": true
   },
   "outputs": [
    {
     "name": "stdout",
     "output_type": "stream",
     "text": [
      "✅ Successfully logged in to Hugging Face.\n",
      "\n",
      "--- Loading AI Model (InstaDeepAI/nucleotide-transformer-v2-500m-multi-species) ---\n"
     ]
    },
    {
     "data": {
      "application/vnd.jupyter.widget-view+json": {
       "model_id": "e3a9878854fc4d98a98722e52ff8708b",
       "version_major": 2,
       "version_minor": 0
      },
      "text/plain": [
       "esm_config.py: 0.00B [00:00, ?B/s]"
      ]
     },
     "metadata": {},
     "output_type": "display_data"
    },
    {
     "name": "stderr",
     "output_type": "stream",
     "text": [
      "A new version of the following files was downloaded from https://huggingface.co/InstaDeepAI/nucleotide-transformer-v2-500m-multi-species:\n",
      "- esm_config.py\n",
      ". Make sure to double-check they do not contain any added malicious code. To avoid downloading new versions of the code file, you can pin a revision.\n"
     ]
    },
    {
     "data": {
      "application/vnd.jupyter.widget-view+json": {
       "model_id": "6d00c9fc10594592899219db2b60ed0d",
       "version_major": 2,
       "version_minor": 0
      },
      "text/plain": [
       "modeling_esm.py: 0.00B [00:00, ?B/s]"
      ]
     },
     "metadata": {},
     "output_type": "display_data"
    },
    {
     "name": "stderr",
     "output_type": "stream",
     "text": [
      "A new version of the following files was downloaded from https://huggingface.co/InstaDeepAI/nucleotide-transformer-v2-500m-multi-species:\n",
      "- modeling_esm.py\n",
      ". Make sure to double-check they do not contain any added malicious code. To avoid downloading new versions of the code file, you can pin a revision.\n"
     ]
    },
    {
     "data": {
      "application/vnd.jupyter.widget-view+json": {
       "model_id": "3ad87ba13c35499aabd8cfac2d968be6",
       "version_major": 2,
       "version_minor": 0
      },
      "text/plain": [
       "model.safetensors:   0%|          | 0.00/1.99G [00:00<?, ?B/s]"
      ]
     },
     "metadata": {},
     "output_type": "display_data"
    },
    {
     "name": "stdout",
     "output_type": "stream",
     "text": [
      "✅ Model 'InstaDeepAI/nucleotide-transformer-v2-500m-multi-species' loaded successfully on cuda.\n"
     ]
    }
   ],
   "source": [
    "# Final Model Loading Cell (with trust_remote_code=True)\n",
    "\n",
    "from transformers import AutoTokenizer, AutoModelForMaskedLM\n",
    "import torch\n",
    "from kaggle_secrets import UserSecretsClient\n",
    "from huggingface_hub import login\n",
    "\n",
    "# --- 1. Securely Log In to Hugging Face ---\n",
    "user_secrets = UserSecretsClient()\n",
    "hf_token = user_secrets.get_secret(\"HUGGING_FACE_TOKEN\")\n",
    "login(token=hf_token)\n",
    "print(\"✅ Successfully logged in to Hugging Face.\")\n",
    "\n",
    "# --- 2. Load the Model ---\n",
    "model_name = \"InstaDeepAI/nucleotide-transformer-v2-500m-multi-species\"\n",
    "print(f\"\\n--- Loading AI Model ({model_name}) ---\")\n",
    "\n",
    "# Load the tokenizer, trusting the custom code\n",
    "tokenizer = AutoTokenizer.from_pretrained(model_name, trust_remote_code=True)\n",
    "\n",
    "# Load the base model, trusting the custom code\n",
    "base_model = AutoModelForMaskedLM.from_pretrained(model_name, trust_remote_code=True)\n",
    "model = base_model.esm \n",
    "\n",
    "# Move the model to the GPU\n",
    "device = torch.device(\"cuda\" if torch.cuda.is_available() else \"cpu\")\n",
    "model.to(device)\n",
    "\n",
    "print(f\"✅ Model '{model_name}' loaded successfully on {device}.\")"
   ]
  },
  {
   "cell_type": "code",
   "execution_count": 29,
   "metadata": {
    "_cell_guid": "912cedf0-8408-4987-a86e-4fb8aa541236",
    "_uuid": "d547ec8f-ddc5-4147-b8ca-dff1f3b165e2",
    "collapsed": false,
    "execution": {
     "iopub.execute_input": "2025-09-29T11:21:48.909674Z",
     "iopub.status.busy": "2025-09-29T11:21:48.908932Z",
     "iopub.status.idle": "2025-09-29T11:22:05.453657Z",
     "shell.execute_reply": "2025-09-29T11:22:05.453052Z",
     "shell.execute_reply.started": "2025-09-29T11:21:48.909651Z"
    },
    "jupyter": {
     "outputs_hidden": false
    },
    "trusted": true
   },
   "outputs": [
    {
     "data": {
      "application/vnd.jupyter.widget-view+json": {
       "model_id": "1e654a8472a049eeba183fcb5c9e1a79",
       "version_major": 2,
       "version_minor": 0
      },
      "text/plain": [
       "Generating DNA Embeddings:   0%|          | 0/500 [00:00<?, ?it/s]"
      ]
     },
     "metadata": {},
     "output_type": "display_data"
    },
    {
     "name": "stdout",
     "output_type": "stream",
     "text": [
      "\n",
      "✅ Fusion complete! Final Embeddings Shape: (500, 1028)\n"
     ]
    }
   ],
   "source": [
    "# Cell 4: Generate Context-Aware Embeddings\n",
    "from sklearn.preprocessing import MinMaxScaler\n",
    "from tqdm.auto import tqdm\n",
    "\n",
    "# --- Generate DNA Embeddings ---\n",
    "dna_embeddings = []\n",
    "for seq in tqdm(df['sequence'], desc=\"Generating DNA Embeddings\"):\n",
    "    inputs = tokenizer(seq, return_tensors='pt', padding=True, truncation=True, max_length=512)\n",
    "    inputs = {k: v.to(device) for k, v in inputs.items()}\n",
    "    with torch.no_grad():\n",
    "        outputs = model(**inputs)\n",
    "    embedding = outputs.last_hidden_state.mean(dim=1).squeeze().cpu().numpy()\n",
    "    dna_embeddings.append(embedding)\n",
    "dna_embeddings = np.array(dna_embeddings)\n",
    "\n",
    "# --- Generate Context Embeddings ---\n",
    "context_features = df[['latitude', 'longitude', 'depth', 'temperature']]\n",
    "scaler = MinMaxScaler()\n",
    "context_embeddings = scaler.fit_transform(context_features)\n",
    "\n",
    "# --- Fuse Embeddings ---\n",
    "context_aware_embeddings = np.concatenate((dna_embeddings, context_embeddings), axis=1)\n",
    "\n",
    "print(f\"\\n✅ Fusion complete! Final Embeddings Shape: {context_aware_embeddings.shape}\")"
   ]
  },
  {
   "cell_type": "code",
   "execution_count": 15,
   "metadata": {
    "_cell_guid": "7cee811d-3d6f-44c8-a460-3db3a3acaea7",
    "_uuid": "4cff077e-2a7d-4e30-9823-a91bc4f57ad5",
    "collapsed": false,
    "execution": {
     "iopub.execute_input": "2025-09-29T09:58:24.456378Z",
     "iopub.status.busy": "2025-09-29T09:58:24.456109Z",
     "iopub.status.idle": "2025-09-29T09:58:25.006309Z",
     "shell.execute_reply": "2025-09-29T09:58:25.005703Z",
     "shell.execute_reply.started": "2025-09-29T09:58:24.456358Z"
    },
    "jupyter": {
     "outputs_hidden": false
    },
    "trusted": true
   },
   "outputs": [
    {
     "name": "stdout",
     "output_type": "stream",
     "text": [
      "✅ Clustering complete.\n",
      "\n",
      "Cluster distribution:\n",
      "cluster\n",
      " 0    449\n",
      "-1     35\n",
      " 1     16\n",
      "Name: count, dtype: int64\n"
     ]
    }
   ],
   "source": [
    "# Cell 5: Perform Unsupervised Clustering\n",
    "import hdbscan\n",
    "\n",
    "clusterer = hdbscan.HDBSCAN(min_cluster_size=10, gen_min_span_tree=True)\n",
    "df['cluster'] = clusterer.fit_predict(context_aware_embeddings)\n",
    "\n",
    "print(\"✅ Clustering complete.\")\n",
    "print(\"\\nCluster distribution:\")\n",
    "print(df['cluster'].value_counts())"
   ]
  },
  {
   "cell_type": "code",
   "execution_count": 16,
   "metadata": {
    "_cell_guid": "e87e08d3-a826-4d99-a6ef-16b5c55e8938",
    "_uuid": "52eb3df0-1c7b-433e-bf23-e837a01d5f5a",
    "collapsed": false,
    "execution": {
     "iopub.execute_input": "2025-09-29T09:58:31.520016Z",
     "iopub.status.busy": "2025-09-29T09:58:31.519748Z",
     "iopub.status.idle": "2025-09-29T09:58:31.535372Z",
     "shell.execute_reply": "2025-09-29T09:58:31.534759Z",
     "shell.execute_reply.started": "2025-09-29T09:58:31.519997Z"
    },
    "jupyter": {
     "outputs_hidden": false
    },
    "trusted": true
   },
   "outputs": [
    {
     "name": "stdout",
     "output_type": "stream",
     "text": [
      "--- OceanEYE Final Biodiversity Report ---\n"
     ]
    },
    {
     "data": {
      "text/html": [
       "<div>\n",
       "<style scoped>\n",
       "    .dataframe tbody tr th:only-of-type {\n",
       "        vertical-align: middle;\n",
       "    }\n",
       "\n",
       "    .dataframe tbody tr th {\n",
       "        vertical-align: top;\n",
       "    }\n",
       "\n",
       "    .dataframe thead th {\n",
       "        text-align: right;\n",
       "    }\n",
       "</style>\n",
       "<table border=\"1\" class=\"dataframe\">\n",
       "  <thead>\n",
       "    <tr style=\"text-align: right;\">\n",
       "      <th></th>\n",
       "      <th>Predicted_Organism</th>\n",
       "      <th>count</th>\n",
       "      <th>cluster</th>\n",
       "    </tr>\n",
       "  </thead>\n",
       "  <tbody>\n",
       "    <tr>\n",
       "      <th>0</th>\n",
       "      <td>Albifimbria verrucaria</td>\n",
       "      <td>449</td>\n",
       "      <td>0</td>\n",
       "    </tr>\n",
       "    <tr>\n",
       "      <th>1</th>\n",
       "      <td>Novel / Rare Candidates (Outliers)</td>\n",
       "      <td>35</td>\n",
       "      <td>-1</td>\n",
       "    </tr>\n",
       "    <tr>\n",
       "      <th>2</th>\n",
       "      <td>Allantophomopsiella pseudotsugae</td>\n",
       "      <td>16</td>\n",
       "      <td>1</td>\n",
       "    </tr>\n",
       "  </tbody>\n",
       "</table>\n",
       "</div>"
      ],
      "text/plain": [
       "                   Predicted_Organism  count  cluster\n",
       "0              Albifimbria verrucaria    449        0\n",
       "1  Novel / Rare Candidates (Outliers)     35       -1\n",
       "2    Allantophomopsiella pseudotsugae     16        1"
      ]
     },
     "metadata": {},
     "output_type": "display_data"
    }
   ],
   "source": [
    "# Cell 6: Generate Final Biodiversity Report\n",
    "import pandas as pd\n",
    "\n",
    "# Get the counts for each cluster\n",
    "cluster_counts = df['cluster'].value_counts().reset_index()\n",
    "cluster_counts.columns = ['cluster', 'count']\n",
    "\n",
    "# Programmatically find the most common organism name for each cluster\n",
    "# This is our \"predicted\" species name for the group\n",
    "annotation_map = df.groupby('cluster')['organism'].agg(lambda x: x.mode().iloc[0]).to_dict()\n",
    "\n",
    "# Add a label for the outliers\n",
    "annotation_map[-1] = 'Novel / Rare Candidates (Outliers)'\n",
    "\n",
    "# Map the annotations to the counts table\n",
    "cluster_counts['Predicted_Organism'] = cluster_counts['cluster'].map(annotation_map)\n",
    "\n",
    "# Create the final report\n",
    "final_report = cluster_counts[['Predicted_Organism', 'count', 'cluster']]\n",
    "\n",
    "print(\"--- OceanEYE Final Biodiversity Report ---\")\n",
    "display(final_report)"
   ]
  },
  {
   "cell_type": "code",
   "execution_count": 17,
   "metadata": {
    "_cell_guid": "abec227c-3e57-4c41-a312-2fa19e852f5f",
    "_uuid": "21464d8f-4892-4926-8ab9-98f1f160ce02",
    "collapsed": false,
    "execution": {
     "iopub.execute_input": "2025-09-29T09:58:34.134009Z",
     "iopub.status.busy": "2025-09-29T09:58:34.133408Z",
     "iopub.status.idle": "2025-09-29T09:58:35.282755Z",
     "shell.execute_reply": "2025-09-29T09:58:35.281953Z",
     "shell.execute_reply.started": "2025-09-29T09:58:34.133984Z"
    },
    "jupyter": {
     "outputs_hidden": false
    },
    "trusted": true
   },
   "outputs": [
    {
     "name": "stderr",
     "output_type": "stream",
     "text": [
      "/usr/local/lib/python3.11/dist-packages/umap/umap_.py:1952: UserWarning: n_jobs value 1 overridden to 1 by setting random_state. Use no seed for parallelism.\n",
      "  warn(\n"
     ]
    },
    {
     "data": {
      "image/png": "[encoded data removed]",
      "text/plain": [
       "<Figure size 1200x1000 with 1 Axes>"
      ]
     },
     "metadata": {},
     "output_type": "display_data"
    }
   ],
   "source": [
    "# Cell 7: Visualize and Evaluate\n",
    "import umap.umap_ as umap\n",
    "import matplotlib.pyplot as plt\n",
    "from sklearn.metrics import adjusted_rand_score\n",
    "\n",
    "# --- 3D Visualization ---\n",
    "reducer_3d = umap.UMAP(n_components=3, n_neighbors=15, min_dist=0.1, random_state=42, init='random')\n",
    "embedding_3d = reducer_3d.fit_transform(context_aware_embeddings)\n",
    "df['umap_x_3d'] = embedding_3d[:, 0]\n",
    "df['umap_y_3d'] = embedding_3d[:, 1]\n",
    "df['umap_z_3d'] = embedding_3d[:, 2]\n",
    "\n",
    "fig = plt.figure(figsize=(12, 10))\n",
    "ax = fig.add_subplot(111, projection='3d')\n",
    "scatter = ax.scatter(df['umap_x_3d'], df['umap_y_3d'], df['umap_z_3d'], c=df['cluster'], cmap='Spectral', s=50, alpha=0.6)\n",
    "ax.set_title('3D Biodiversity Map', fontsize=18)\n",
    "legend1 = ax.legend(*scatter.legend_elements(), title=\"Clusters\")\n",
    "ax.add_artist(legend1)\n",
    "plt.show()\n"
   ]
  },
  {
   "cell_type": "code",
   "execution_count": 18,
   "metadata": {
    "_cell_guid": "0fab89f6-3d45-4903-accf-4063719c681a",
    "_uuid": "5102e6e3-6878-450e-bc59-7f7556f3b5d1",
    "collapsed": false,
    "execution": {
     "iopub.execute_input": "2025-09-29T09:59:39.751462Z",
     "iopub.status.busy": "2025-09-29T09:59:39.750755Z",
     "iopub.status.idle": "2025-09-29T09:59:40.319938Z",
     "shell.execute_reply": "2025-09-29T09:59:40.319144Z",
     "shell.execute_reply.started": "2025-09-29T09:59:39.751438Z"
    },
    "jupyter": {
     "outputs_hidden": false
    },
    "trusted": true
   },
   "outputs": [
    {
     "name": "stdout",
     "output_type": "stream",
     "text": [
      "--- Testing the performance of the DNA embeddings alone ---\n",
      "\n",
      "Clustering Quality on DNA Embeddings ONLY (ARI Score): 0.0000\n"
     ]
    }
   ],
   "source": [
    "# New Cell: Evaluate Clustering on DNA Embeddings ONLY\n",
    "from sklearn.metrics import adjusted_rand_score\n",
    "import hdbscan\n",
    "\n",
    "print(\"--- Testing the performance of the DNA embeddings alone ---\")\n",
    "\n",
    "# Rerun clustering on ONLY the dna_embeddings array\n",
    "clusterer_dna_only = hdbscan.HDBSCAN(min_cluster_size=10, gen_min_span_tree=True)\n",
    "dna_only_clusters = clusterer_dna_only.fit_predict(dna_embeddings)\n",
    "\n",
    "# Calculate the new ARI score against the same ground truth\n",
    "ari_score_dna_only = adjusted_rand_score(df['organism'], dna_only_clusters)\n",
    "\n",
    "print(f\"\\nClustering Quality on DNA Embeddings ONLY (ARI Score): {ari_score_dna_only:.4f}\")"
   ]
  },
  {
   "cell_type": "code",
   "execution_count": 19,
   "metadata": {
    "_cell_guid": "f619ec06-84c7-454a-be3b-efde48aed3ca",
    "_uuid": "754dbb38-b962-42a1-9da7-0971abb2e3d0",
    "collapsed": false,
    "execution": {
     "iopub.execute_input": "2025-09-29T09:59:42.307807Z",
     "iopub.status.busy": "2025-09-29T09:59:42.307253Z",
     "iopub.status.idle": "2025-09-29T09:59:43.209511Z",
     "shell.execute_reply": "2025-09-29T09:59:43.208785Z",
     "shell.execute_reply.started": "2025-09-29T09:59:42.307781Z"
    },
    "jupyter": {
     "outputs_hidden": false
    },
    "trusted": true
   },
   "outputs": [
    {
     "name": "stdout",
     "output_type": "stream",
     "text": [
      "--- Re-evaluating with a simpler clustering algorithm (k-Means) ---\n",
      "Found 500 unique organisms in the ground truth data. Using k=500 for k-Means.\n",
      "\n",
      "Clustering Quality using k-Means on DNA Embeddings (ARI Score): 1.0000\n"
     ]
    }
   ],
   "source": [
    "# New Cell: Re-evaluate with k-Means Clustering\n",
    "from sklearn.cluster import KMeans\n",
    "from sklearn.metrics import adjusted_rand_score\n",
    "import pandas as pd\n",
    "\n",
    "print(\"--- Re-evaluating with a simpler clustering algorithm (k-Means) ---\")\n",
    "\n",
    "# 1. Determine the number of clusters (k) to look for.\n",
    "# We can use the number of unique species/genera in our ground truth as a good estimate.\n",
    "k = df['organism'].nunique()\n",
    "print(f\"Found {k} unique organisms in the ground truth data. Using k={k} for k-Means.\")\n",
    "\n",
    "# 2. Initialize and run k-Means clustering on the DNA embeddings\n",
    "kmeans = KMeans(n_clusters=k, random_state=42, n_init='auto')\n",
    "kmeans_labels = kmeans.fit_predict(dna_embeddings)\n",
    "\n",
    "# 3. Calculate the ARI score for the k-Means results\n",
    "ari_score_kmeans = adjusted_rand_score(df['organism'], kmeans_labels)\n",
    "\n",
    "print(f\"\\nClustering Quality using k-Means on DNA Embeddings (ARI Score): {ari_score_kmeans:.4f}\")"
   ]
  },
  {
   "cell_type": "code",
   "execution_count": 21,
   "metadata": {
    "_cell_guid": "e0d0f0e5-da7f-49f5-ad40-523a9d95a87e",
    "_uuid": "ba68de1d-f3ab-4de7-9c09-c2b02a2b3cd3",
    "collapsed": false,
    "execution": {
     "iopub.execute_input": "2025-09-29T10:05:09.025331Z",
     "iopub.status.busy": "2025-09-29T10:05:09.024754Z",
     "iopub.status.idle": "2025-09-29T10:05:19.074639Z",
     "shell.execute_reply": "2025-09-29T10:05:19.073926Z",
     "shell.execute_reply.started": "2025-09-29T10:05:09.025308Z"
    },
    "jupyter": {
     "outputs_hidden": false
    },
    "trusted": true
   },
   "outputs": [
    {
     "name": "stdout",
     "output_type": "stream",
     "text": [
      "--- Step 1: Fetching Genus-level ground truth to ensure data is ready ---\n",
      "✅ Ground truth is ready.\n",
      "\n",
      "--- Step 2: Evaluating with k-Means on Genus-level labels ---\n",
      "Testing the model's ability to partition data into 20 major groups.\n",
      "\n",
      "==================================================\n",
      "        Final Model Performance Score\n",
      "==================================================\n",
      "Clustering Quality (Adjusted Rand Index): 0.1646\n"
     ]
    }
   ],
   "source": [
    "# Final, Self-Contained Evaluation Cell\n",
    "\n",
    "from Bio import Entrez\n",
    "import time\n",
    "from sklearn.cluster import KMeans\n",
    "from sklearn.metrics import adjusted_rand_score\n",
    "import pandas as pd\n",
    "\n",
    "# --- Step 1: Ensure 'true_genus' column exists ---\n",
    "# This part fetches the ground truth data, creating the column we need.\n",
    "\n",
    "print(\"--- Step 1: Fetching Genus-level ground truth to ensure data is ready ---\")\n",
    "Entrez.email = \"your.email@example.com\" # Please change to your email\n",
    "\n",
    "accession_ids = df['Sequence_ID'].tolist()\n",
    "all_genera = {}\n",
    "for i in range(0, len(accession_ids), 100):\n",
    "    batch_ids = [aid for aid in accession_ids[i:i+100] if aid]\n",
    "    if not batch_ids: continue\n",
    "    try:\n",
    "        handle = Entrez.efetch(db=\"nuccore\", id=batch_ids, rettype=\"gb\", retmode=\"xml\")\n",
    "        records = Entrez.read(handle)\n",
    "        handle.close()\n",
    "        for record in records:\n",
    "            acc_id = record.get('GBSeq_accession-version', 'N/A')\n",
    "            lineage = record.get('GBSeq_taxonomy', 'Unknown').split('; ')\n",
    "            genus = lineage[-2] if len(lineage) > 1 else 'Unknown'\n",
    "            all_genera[acc_id] = genus\n",
    "    except Exception as e:\n",
    "        print(f\"  Warning: An Entrez error occurred: {e}\")\n",
    "    time.sleep(1)\n",
    "\n",
    "df['true_genus'] = df['Sequence_ID'].map(all_genera).fillna('Unknown')\n",
    "print(\"✅ Ground truth is ready.\")\n",
    "\n",
    "\n",
    "# --- Step 2: Run the Final Evaluation ---\n",
    "print(\"\\n--- Step 2: Evaluating with k-Means on Genus-level labels ---\")\n",
    "\n",
    "# Set a fixed, biologically plausible number of clusters to find\n",
    "FIXED_K = 20 \n",
    "print(f\"Testing the model's ability to partition data into {FIXED_K} major groups.\")\n",
    "\n",
    "# Run k-Means clustering on the DNA embeddings\n",
    "kmeans = KMeans(n_clusters=FIXED_K, random_state=42, n_init='auto')\n",
    "kmeans_labels = kmeans.fit_predict(dna_embeddings)\n",
    "\n",
    "# Calculate the ARI score against the true GENUS labels\n",
    "ari_score_final = adjusted_rand_score(df['true_genus'], kmeans_labels)\n",
    "\n",
    "print(\"\\n\" + \"=\"*50)\n",
    "print(\"        Final Model Performance Score\")\n",
    "print(\"=\"*50)\n",
    "print(f\"Clustering Quality (Adjusted Rand Index): {ari_score_final:.4f}\")"
   ]
  },
  {
   "cell_type": "code",
   "execution_count": 22,
   "metadata": {
    "_cell_guid": "2a4e388d-b8e5-4bc0-85c2-c78a2adfb19c",
    "_uuid": "58331209-19f8-4bbd-9ca6-58b3a99e7775",
    "collapsed": false,
    "execution": {
     "iopub.execute_input": "2025-09-29T10:09:34.606120Z",
     "iopub.status.busy": "2025-09-29T10:09:34.605566Z",
     "iopub.status.idle": "2025-09-29T10:09:34.615903Z",
     "shell.execute_reply": "2025-09-29T10:09:34.615158Z",
     "shell.execute_reply.started": "2025-09-29T10:09:34.606098Z"
    },
    "jupyter": {
     "outputs_hidden": false
    },
    "trusted": true
   },
   "outputs": [
    {
     "name": "stdout",
     "output_type": "stream",
     "text": [
      "--- Extracting sequences flagged as novel or rare ---\n",
      "\n",
      "✅ Successfully saved 35 novel candidate sequences to the file 'novel_candidates.fasta'.\n",
      "You can now download this file and upload it to the NCBI BLAST website for verification.\n"
     ]
    }
   ],
   "source": [
    "# New Cell: Extract Novel Candidate Sequences to a FASTA file\n",
    "\n",
    "print(\"--- Extracting sequences flagged as novel or rare ---\")\n",
    "\n",
    "# In our report, the 'Novel / Rare Candidates' correspond to the cluster labeled -1\n",
    "# (or the cluster ID mapped to that name in your final report).\n",
    "# We will filter the DataFrame to get only these sequences.\n",
    "novel_cluster_id = -1 # Assuming HDBSCAN was used, otherwise find the ID from your report\n",
    "novel_df = df[df['cluster'] == novel_cluster_id]\n",
    "\n",
    "output_fasta_file = \"novel_candidates.fasta\"\n",
    "\n",
    "with open(output_fasta_file, \"w\") as f:\n",
    "    for index, row in novel_df.iterrows():\n",
    "        # Write in FASTA format: >Sequence_ID\\nSEQUENCE\\n\n",
    "        f.write(f\">{row['Sequence_ID']}\\n\")\n",
    "        f.write(f\"{row['sequence']}\\n\")\n",
    "\n",
    "print(f\"\\n✅ Successfully saved {len(novel_df)} novel candidate sequences to the file '{output_fasta_file}'.\")\n",
    "print(\"You can now download this file and upload it to the NCBI BLAST website for verification.\")"
   ]
  },
  {
   "cell_type": "code",
   "execution_count": 23,
   "metadata": {
    "execution": {
     "iopub.execute_input": "2025-09-29T10:13:49.024407Z",
     "iopub.status.busy": "2025-09-29T10:13:49.023724Z",
     "iopub.status.idle": "2025-09-29T10:13:49.053132Z",
     "shell.execute_reply": "2025-09-29T10:13:49.052419Z",
     "shell.execute_reply.started": "2025-09-29T10:13:49.024383Z"
    },
    "trusted": true
   },
   "outputs": [
    {
     "name": "stdout",
     "output_type": "stream",
     "text": [
      "✅ Successfully saved 449 sequences from Cluster 0 to the file 'cluster_0_sequences.fasta'.\n",
      "You can now download this file for verification.\n"
     ]
    }
   ],
   "source": [
    "# New Cell: Extract sequences from a specific predicted cluster for verification\n",
    "\n",
    "# --- Configuration ---\n",
    "CLUSTER_ID_TO_CHECK = 0 # The cluster ID for 'Albifimbria verrucaria'\n",
    "OUTPUT_FILENAME = f\"cluster_{CLUSTER_ID_TO_CHECK}_sequences.fasta\"\n",
    "\n",
    "# 1. Filter the DataFrame to get only the sequences from our target cluster\n",
    "cluster_df = df[df['cluster'] == CLUSTER_ID_TO_CHECK]\n",
    "\n",
    "# 2. Write these sequences to a new FASTA file\n",
    "with open(OUTPUT_FILENAME, \"w\") as f:\n",
    "    for index, row in cluster_df.iterrows():\n",
    "        # Write in FASTA format: >Sequence_ID\\nSEQUENCE\\n\n",
    "        f.write(f\">{row['Sequence_ID']}\\n\")\n",
    "        f.write(f\"{row['sequence']}\\n\")\n",
    "\n",
    "print(f\"✅ Successfully saved {len(cluster_df)} sequences from Cluster {CLUSTER_ID_TO_CHECK} to the file '{OUTPUT_FILENAME}'.\")\n",
    "print(\"You can now download this file for verification.\")"
   ]
  },
  {
   "cell_type": "code",
   "execution_count": 24,
   "metadata": {
    "execution": {
     "iopub.execute_input": "2025-09-29T10:31:30.914677Z",
     "iopub.status.busy": "2025-09-29T10:31:30.914216Z",
     "iopub.status.idle": "2025-09-29T10:31:30.922341Z",
     "shell.execute_reply": "2025-09-29T10:31:30.921606Z",
     "shell.execute_reply.started": "2025-09-29T10:31:30.914645Z"
    },
    "trusted": true
   },
   "outputs": [
    {
     "name": "stdout",
     "output_type": "stream",
     "text": [
      "--- Here are 2 sample sequences from Cluster 0 ---\n",
      "--- Copy everything below this line and paste it into the BLAST website ---\n",
      ">NG_065155.1\n",
      "TATCTGGTTGATCCTGCCAGTAGTCATATGCTTGTCTCAAAGATTAAGCCATGCATGTCTAAGTATAAGCAATTTATACAGTGAAACTGCGAATGGCTCATTAAATCAGTTATCGTTTATTTGATAGTTCCTTTACTACATGGTATAACTGTGGTAATTCTAGAGCTAATACATGCTTAAAATCTCGACCTTTCGGAAGAGATGTATTTATTAGATAAAAAATCAACGTCTTCGGACTCCTTGATGATTCATAATAACTTTTCGAATCGCATGGCCTTGTGCTGGCGATGGTTCATTCAAATTTCTGCCCTATCAACTTTCGATGGTAGGATAGTGGCCTACCATGGTTTCAACGGGTAACGGGGAATAAGGGTTCGATTCCGGAGAGGGAGCCTGAGAAACGGCTACCACATCCAAGGAAGGCAGCAGGCGCGCAAATTACCCAATCCTGACACAGGGAGGTAGTGACAATAAATAACGATACAGGGCCCTTACGGGTCTTGTAATTGGAATGAGTACAATGTAAATACCTTAACGAGGAACAATTGGAGGGCAAGTCTGGTGCCAGCAGCCGCGGTAATTCCAGCTCCAATAGCGTATATTAAAGTTGTTGCAGTTAAAAAGCTCGTAGTTGAACTTTGGGCCTGGTCGGCCGGTCCGGATTTTTCCGCGTACTGGTTTTTCCGACCGGGCCTTTCCTTCTGGCTAGCCCTGGGTCCTTGTGGCCCTTGGTGAACCAGGACTTTTACTTTGAAAAAATTAGAGTGTTCAAAGCAGGCGTATTGCTCGAATATATTAGCATGGAATAATAGAATAGGACGTTTGGTTCTATTTTGTTGGTTTCTAGGACCATCGTAATGATTAATAGGGACGGTCGGGGGCATCAGTATTCAGTTGTCGAGGTGAAATTCTTGGATTTACTGAAGACTAACTACTGCGAAAGCATTTGCCAAGGACGTTTTCATTAATCAAGAACGAAAGTTAGGGGATCGAAGATGATCAGATACCGTCGTAGTCTTAACCATAAACTATGCCGACTAGGGATCGGGTGGTGTTTTTTTACTGACCCACTCGGCACCTTACGAGAAATCAAAGTCTTTGGGTTCTGGGGGGAGTATGGTCGCAAGGCTGAAACTTAAAGGAATTGACGGAAGGGCACCACTAGGAGTGGAGCCTGCGCTTAATTTGACTCAACACGGGGAAACTCACCAGGTCCAGACACAATAAGGATTGACAGATTGAGAGCTCTTTCTTGATTTTGTGGGTGGTGGTGCATGGCCGTTCTTAGTTGGTGGAGTGATTTGTCTGCTTAATTGCGATAACGAACGAGACCTTAACCTACTAAATAGTGGTGCTAGCATTTGCTGGTTTTTCCACTTCTTAGAGGGACTATCGGTTTCAAGCCGATGGAAGTTTGAGGCAATAACAGGTCTGTGATGCCCTTAGACGTTCTGGGCCGCACGCGCGCTACACTGACGGAGCCAACGAGTCTAACCTTGGCCGAGAGGTCTGGGTAATCTTGTGAAACTCCGTCGTGCTGGGGATAGAGCATTGTAATTATTGCTCTTCAACGAGGAATTCCTAGTAAGCGCAAGTCATCAGCTTGCGTTGATTACGTCCCTGCCCTTTGTACACACCGCCCGTCGCTAGTACCGATTGAATGGCTTAGTGAGGCCTCAGGATCTGCTTAGAGAAGGGGGCAACTCCATCTCAGAGCGGAGAATCTGGTCAAACTTGGTCATTTAGAGGAACTAAAAGTCGTAACAAGGTTTCCGTAGGTGAACCTGCGGAAGGATCATTA\n",
      ">NG_065153.1\n",
      "ATATGCTTGTCTCAGATTAAGCCATGCATGTCTAAGTATAAGCAATTATACCGTGAAACTGCGAATGGCTCATTAAATCAGTTATCGTTTATTTGATAGTACCTTACTACTTGGATACCTGTGGTAATTCTAGAGCTAATACATGCTAAAAACCCAAACTTCGGAATGGGTGTATTTATTAGATAAAAAACCAATGCCCTTCGGGGCTCCTTGGTGATTCATAATAACTTCTCAGATCGCATGGCCTTGCGCCGGCGACGGTTCATTCAAATTTCTGCCCTATCAACTTTCGATGGTAAGGTATTGGCTTACCATGGTGGCAACGGGTAACGGGGAATTAGGGTTCGATTCCGGAGAGTTAGCCTGAGAAACGGCTAACACATCCAAGGAAGGCAGCAGGCGCGCAAATTACCCAATCCCGATACGGGGAGGTAGTGACAATAAATACTGATACAGGGCTCTTTTGGGTCTTGTAATTGGAATGAGTACAATTTAAACCTCTTAACGAGGAACAATTGGAGGGCAAGTCTGGTGCCAGCAGCCGCGGTAATTCCAGCTCCAATAGCGTATATTAAAGTTGTTGCAGTTAAAAAGCTCGTAGTTGAACCTTTGGCCTGGCTGGCAGGTCCGCCTCACCGCGTGCACTTGTCCGGCCGGGCCTTTTCTTCTAGAGAACCGCATGCCCTTCACTGGGTGTGTTGGGGACTAGGACTTTTACTTTGAAAAAATTAGAGTGTTCAAAGCAGGCCTTTGCTCGAATATTACAGCATGGAATAATAGAATAGGACGTGCGGTTCTATTTTGTTGGTTTCTAGGACCGCCGTAATGATTAATAGGGACAGTCGGGGGCATCAGTATTCAATTGTCAGAGGTGAAATTCTTGGATTTATTGAAGACTAACTACTGCGAAAGCATTTGCCAAGGATGTTTTCATTAATCAGTGAACGAAAGTTAGGGGATCGAAGACGATCAGATACCGTCGTAGTCTTAACCATAAACTATGCCGACTAGGGATCGGGCGGTGTTACTATTTTGACTCGCTCGGCACCTTACGAGAAATCAAAGTGTTTGGGTTCTGGGGGGAGTATGGTCGCAAGGCTGAAACTTAAAGAAATTGACGGAAGGGCACCACCAGGCGTGGAGCCTGCGGCTTAATTTGACTCAACACGGGGAAACTCACCAGGTCCAGATGAAATAAGGATTGACAGATTGAGAGCTCTTTCTTGATTTTTCAGGTGGTGGTGCATGGCCGTTCTTAGTTGGTGGAGTGATTTGTCTGCTTAATTGCGATAACGAACGAGACCTTAACCTGCTAAATAGCCAGGCTAGCTTTGGCTGGTCGCCGGCTTCTTAGAGGGACTATCGGCTCAAGCCGATGGAAGTTTGAGGCAATAACAGGTCTGTGATGCCCTTAGATGTTCTGGGCCGCACGCGCGCTACACTGACAGAGCCAACGAGTTTTCTTCCTTGTCCGAAAGGTCTGGGTAATCTTGTTAAACTCTGTCGTGCTGGGGATAGAGCATTGCAATTATTGCTCTTCAACGAGGAATGCCTAGTAAGCGCGTGTCATCAGCACGCGTTGATTACGTCCCTGCCCTTTGTACACACCGCCCGTCGCTACTACCGATTGAATGGCTCAGTGAGGCCATCGGACTGGCCCGTGGAGGTTGCCAACGACCACCGCGGCCCGGAAAGTTGTACGAACTCGGTCATTTAGAGGAAGTAAAAGTCGTAACAAGGTTTCCGTAGGTGAACC\n"
     ]
    }
   ],
   "source": [
    "# New Cell: Get 2 sample sequences from a specific cluster\n",
    "\n",
    "# --- Configuration ---\n",
    "CLUSTER_ID_TO_CHECK = 0 # The cluster ID for 'Albifimbria verrucaria'\n",
    "NUM_SAMPLES_TO_GET = 2\n",
    "\n",
    "# 1. Filter the DataFrame to get only the sequences from our target cluster\n",
    "cluster_df = df[df['cluster'] == CLUSTER_ID_TO_CHECK]\n",
    "\n",
    "# 2. Get the first few sample sequences from that cluster\n",
    "sample_df = cluster_df.head(NUM_SAMPLES_TO_GET)\n",
    "\n",
    "# 3. Print the sequences in FASTA format for easy copy-pasting\n",
    "print(f\"--- Here are {NUM_SAMPLES_TO_GET} sample sequences from Cluster {CLUSTER_ID_TO_CHECK} ---\")\n",
    "print(\"--- Copy everything below this line and paste it into the BLAST website ---\")\n",
    "\n",
    "for index, row in sample_df.iterrows():\n",
    "    # Print in FASTA format: >Sequence_ID\\nSEQUENCE\\n\n",
    "    print(f\">{row['Sequence_ID']}\")\n",
    "    print(f\"{row['sequence']}\")"
   ]
  },
  {
   "cell_type": "code",
   "execution_count": 28,
   "metadata": {
    "execution": {
     "iopub.execute_input": "2025-09-29T11:20:32.034422Z",
     "iopub.status.busy": "2025-09-29T11:20:32.033830Z",
     "iopub.status.idle": "2025-09-29T11:20:32.098599Z",
     "shell.execute_reply": "2025-09-29T11:20:32.097690Z",
     "shell.execute_reply.started": "2025-09-29T11:20:32.034401Z"
    },
    "trusted": true
   },
   "outputs": [
    {
     "ename": "KeyError",
     "evalue": "'cluster'",
     "output_type": "error",
     "traceback": [
      "\u001b[0;31m---------------------------------------------------------------------------\u001b[0m",
      "\u001b[0;31mKeyError\u001b[0m                                  Traceback (most recent call last)",
      "\u001b[0;32m/usr/local/lib/python3.11/dist-packages/pandas/core/indexes/base.py\u001b[0m in \u001b[0;36mget_loc\u001b[0;34m(self, key)\u001b[0m\n\u001b[1;32m   3804\u001b[0m         \u001b[0;32mtry\u001b[0m\u001b[0;34m:\u001b[0m\u001b[0;34m\u001b[0m\u001b[0;34m\u001b[0m\u001b[0m\n\u001b[0;32m-> 3805\u001b[0;31m             \u001b[0;32mreturn\u001b[0m \u001b[0mself\u001b[0m\u001b[0;34m.\u001b[0m\u001b[0m_engine\u001b[0m\u001b[0;34m.\u001b[0m\u001b[0mget_loc\u001b[0m\u001b[0;34m(\u001b[0m\u001b[0mcasted_key\u001b[0m\u001b[0;34m)\u001b[0m\u001b[0;34m\u001b[0m\u001b[0;34m\u001b[0m\u001b[0m\n\u001b[0m\u001b[1;32m   3806\u001b[0m         \u001b[0;32mexcept\u001b[0m \u001b[0mKeyError\u001b[0m \u001b[0;32mas\u001b[0m \u001b[0merr\u001b[0m\u001b[0;34m:\u001b[0m\u001b[0;34m\u001b[0m\u001b[0;34m\u001b[0m\u001b[0m\n",
      "\u001b[0;32mindex.pyx\u001b[0m in \u001b[0;36mpandas._libs.index.IndexEngine.get_loc\u001b[0;34m()\u001b[0m\n",
      "\u001b[0;32mindex.pyx\u001b[0m in \u001b[0;36mpandas._libs.index.IndexEngine.get_loc\u001b[0;34m()\u001b[0m\n",
      "\u001b[0;32mpandas/_libs/hashtable_class_helper.pxi\u001b[0m in \u001b[0;36mpandas._libs.hashtable.PyObjectHashTable.get_item\u001b[0;34m()\u001b[0m\n",
      "\u001b[0;32mpandas/_libs/hashtable_class_helper.pxi\u001b[0m in \u001b[0;36mpandas._libs.hashtable.PyObjectHashTable.get_item\u001b[0;34m()\u001b[0m\n",
      "\u001b[0;31mKeyError\u001b[0m: 'cluster'",
      "\nThe above exception was the direct cause of the following exception:\n",
      "\u001b[0;31mKeyError\u001b[0m                                  Traceback (most recent call last)",
      "\u001b[0;32m/tmp/ipykernel_36/2881036372.py\u001b[0m in \u001b[0;36m<cell line: 0>\u001b[0;34m()\u001b[0m\n\u001b[1;32m      5\u001b[0m \u001b[0;34m\u001b[0m\u001b[0m\n\u001b[1;32m      6\u001b[0m \u001b[0;31m# Get the value counts for all organisms within our target cluster\u001b[0m\u001b[0;34m\u001b[0m\u001b[0;34m\u001b[0m\u001b[0m\n\u001b[0;32m----> 7\u001b[0;31m \u001b[0mcluster_census\u001b[0m \u001b[0;34m=\u001b[0m \u001b[0mdf\u001b[0m\u001b[0;34m[\u001b[0m\u001b[0mdf\u001b[0m\u001b[0;34m[\u001b[0m\u001b[0;34m'cluster'\u001b[0m\u001b[0;34m]\u001b[0m \u001b[0;34m==\u001b[0m \u001b[0mCLUSTER_ID_TO_INSPECT\u001b[0m\u001b[0;34m]\u001b[0m\u001b[0;34m[\u001b[0m\u001b[0;34m'organism'\u001b[0m\u001b[0;34m]\u001b[0m\u001b[0;34m.\u001b[0m\u001b[0mvalue_counts\u001b[0m\u001b[0;34m(\u001b[0m\u001b[0;34m)\u001b[0m\u001b[0;34m\u001b[0m\u001b[0;34m\u001b[0m\u001b[0m\n\u001b[0m\u001b[1;32m      8\u001b[0m \u001b[0;34m\u001b[0m\u001b[0m\n\u001b[1;32m      9\u001b[0m \u001b[0mprint\u001b[0m\u001b[0;34m(\u001b[0m\u001b[0;34mf\"--- Full Organism Census for Cluster {CLUSTER_ID_TO_INSPECT} ---\"\u001b[0m\u001b[0;34m)\u001b[0m\u001b[0;34m\u001b[0m\u001b[0;34m\u001b[0m\u001b[0m\n",
      "\u001b[0;32m/usr/local/lib/python3.11/dist-packages/pandas/core/frame.py\u001b[0m in \u001b[0;36m__getitem__\u001b[0;34m(self, key)\u001b[0m\n\u001b[1;32m   4100\u001b[0m             \u001b[0;32mif\u001b[0m \u001b[0mself\u001b[0m\u001b[0;34m.\u001b[0m\u001b[0mcolumns\u001b[0m\u001b[0;34m.\u001b[0m\u001b[0mnlevels\u001b[0m \u001b[0;34m>\u001b[0m \u001b[0;36m1\u001b[0m\u001b[0;34m:\u001b[0m\u001b[0;34m\u001b[0m\u001b[0;34m\u001b[0m\u001b[0m\n\u001b[1;32m   4101\u001b[0m                 \u001b[0;32mreturn\u001b[0m \u001b[0mself\u001b[0m\u001b[0;34m.\u001b[0m\u001b[0m_getitem_multilevel\u001b[0m\u001b[0;34m(\u001b[0m\u001b[0mkey\u001b[0m\u001b[0;34m)\u001b[0m\u001b[0;34m\u001b[0m\u001b[0;34m\u001b[0m\u001b[0m\n\u001b[0;32m-> 4102\u001b[0;31m             \u001b[0mindexer\u001b[0m \u001b[0;34m=\u001b[0m \u001b[0mself\u001b[0m\u001b[0;34m.\u001b[0m\u001b[0mcolumns\u001b[0m\u001b[0;34m.\u001b[0m\u001b[0mget_loc\u001b[0m\u001b[0;34m(\u001b[0m\u001b[0mkey\u001b[0m\u001b[0;34m)\u001b[0m\u001b[0;34m\u001b[0m\u001b[0;34m\u001b[0m\u001b[0m\n\u001b[0m\u001b[1;32m   4103\u001b[0m             \u001b[0;32mif\u001b[0m \u001b[0mis_integer\u001b[0m\u001b[0;34m(\u001b[0m\u001b[0mindexer\u001b[0m\u001b[0;34m)\u001b[0m\u001b[0;34m:\u001b[0m\u001b[0;34m\u001b[0m\u001b[0;34m\u001b[0m\u001b[0m\n\u001b[1;32m   4104\u001b[0m                 \u001b[0mindexer\u001b[0m \u001b[0;34m=\u001b[0m \u001b[0;34m[\u001b[0m\u001b[0mindexer\u001b[0m\u001b[0;34m]\u001b[0m\u001b[0;34m\u001b[0m\u001b[0;34m\u001b[0m\u001b[0m\n",
      "\u001b[0;32m/usr/local/lib/python3.11/dist-packages/pandas/core/indexes/base.py\u001b[0m in \u001b[0;36mget_loc\u001b[0;34m(self, key)\u001b[0m\n\u001b[1;32m   3810\u001b[0m             ):\n\u001b[1;32m   3811\u001b[0m                 \u001b[0;32mraise\u001b[0m \u001b[0mInvalidIndexError\u001b[0m\u001b[0;34m(\u001b[0m\u001b[0mkey\u001b[0m\u001b[0;34m)\u001b[0m\u001b[0;34m\u001b[0m\u001b[0;34m\u001b[0m\u001b[0m\n\u001b[0;32m-> 3812\u001b[0;31m             \u001b[0;32mraise\u001b[0m \u001b[0mKeyError\u001b[0m\u001b[0;34m(\u001b[0m\u001b[0mkey\u001b[0m\u001b[0;34m)\u001b[0m \u001b[0;32mfrom\u001b[0m \u001b[0merr\u001b[0m\u001b[0;34m\u001b[0m\u001b[0;34m\u001b[0m\u001b[0m\n\u001b[0m\u001b[1;32m   3813\u001b[0m         \u001b[0;32mexcept\u001b[0m \u001b[0mTypeError\u001b[0m\u001b[0;34m:\u001b[0m\u001b[0;34m\u001b[0m\u001b[0;34m\u001b[0m\u001b[0m\n\u001b[1;32m   3814\u001b[0m             \u001b[0;31m# If we have a listlike key, _check_indexing_error will raise\u001b[0m\u001b[0;34m\u001b[0m\u001b[0;34m\u001b[0m\u001b[0m\n",
      "\u001b[0;31mKeyError\u001b[0m: 'cluster'"
     ]
    }
   ],
   "source": [
    "# New Cell: See the full species composition of a single cluster\n",
    "\n",
    "# --- Configuration ---\n",
    "CLUSTER_ID_TO_INSPECT = 0\n",
    "\n",
    "# Get the value counts for all organisms within our target cluster\n",
    "cluster_census = df[df['cluster'] == CLUSTER_ID_TO_INSPECT]['organism'].value_counts()\n",
    "\n",
    "print(f\"--- Full Organism Census for Cluster {CLUSTER_ID_TO_INSPECT} ---\")\n",
    "# Display the top 15 most common organisms in this cluster\n",
    "display(cluster_census.head(40))"
   ]
  },
  {
   "cell_type": "code",
   "execution_count": null,
   "metadata": {
    "trusted": true
   },
   "outputs": [],
   "source": []
  },
  {
   "cell_type": "code",
   "execution_count": null,
   "metadata": {},
   "outputs": [],
   "source": [
    "# Cell: Generate JSON by Species with Metadata, Shannon, Confidence, Location, Time, and Hierarchical Clustering\n",
    "import json\n",
    "from scipy.cluster.hierarchy import linkage, fcluster\n",
    "from scipy.stats import entropy\n",
    "from datetime import datetime\n",
    "\n",
    "# 1. Calculate Shannon score for each species\n",
    "species_groups = df.groupby('organism')\n",
    "species_json = {}\n",
    "\n",
    "for species, group in species_groups:\n",
    "    # Shannon diversity (abundance of clusters within this species)\n",
    "    cluster_counts = group['cluster'].value_counts()\n",
    "    shannon_score = entropy(cluster_counts)\n",
    "    \n",
    "    # Confidence score: proportion of dominant cluster\n",
    "    confidence_score = cluster_counts.max() / cluster_counts.sum() if cluster_counts.sum() > 0 else 0\n",
    "    \n",
    "    # Location metadata (mean, or list)\n",
    "    locations = group[['latitude', 'longitude', 'depth']].to_dict(orient='records')\n",
    "    mean_location = group[['latitude', 'longitude', 'depth']].mean().to_dict()\n",
    "    \n",
    "    # Time metadata (simulate if not present)\n",
    "    if 'timestamp' in group.columns:\n",
    "        times = group['timestamp'].tolist()\n",
    "    else:\n",
    "        times = [datetime.now().isoformat()] * len(group)\n",
    "    \n",
    "    # Hierarchical clustering on embeddings for this species\n",
    "    emb = context_aware_embeddings[group.index]\n",
    "    if len(emb) > 1:\n",
    "        Z = linkage(emb, method='ward')\n",
    "        # Assign clusters at a reasonable threshold (e.g., 5 clusters or less)\n",
    "        hier_clusters = fcluster(Z, t=5, criterion='maxclust').tolist()\n",
    "    else:\n",
    "        hier_clusters = [1] * len(group)\n",
    "    \n",
    "    # Build JSON entry\n",
    "    species_json[species] = {\n",
    "        'shannon_score': float(shannon_score),\n",
    "        'confidence_score': float(confidence_score),\n",
    "        'mean_location': {k: float(v) for k, v in mean_location.items()},\n",
    "        'locations': locations,\n",
    "        'time_metadata': times,\n",
    "        'abundance': int(len(group)),\n",
    "        'hierarchical_clusters': hier_clusters,\n",
    "        'sequences': group['sequence'].tolist(),\n",
    "        'sequence_ids': group['Sequence_ID'].tolist(),\n",
    "        'cluster_ids': group['cluster'].tolist(),\n",
    "    }\n",
    "\n",
    "# 2. Save to JSON file\n",
    "with open('species_biodiversity_report.json', 'w') as f:\n",
    "    json.dump(species_json, f, indent=2)\n",
    "\n",
    "print('✅ JSON file \"species_biodiversity_report.json\" generated. Structure is suitable for backend use.')"
   ]
  },
  {
   "cell_type": "code",
   "execution_count": null,
   "metadata": {},
   "outputs": [],
   "source": [
    "# Download the generated JSON file (Kaggle/Colab compatible)\n",
    "from IPython.display import FileLink, display\n",
    "import shutil\n",
    "\n",
    "# If running on Kaggle, move to /kaggle/working for download\n",
    "try:\n",
    "    shutil.copy('species_biodiversity_report.json', '/kaggle/working/species_biodiversity_report.json')\n",
    "except Exception as e:\n",
    "    print('Not running on Kaggle or file already in working directory:', e)\n",
    "\n",
    "# Display download link\n",
    "try:\n",
    "    display(FileLink('species_biodiversity_report.json'))\n",
    "except Exception as e:\n",
    "    print('FileLink not available:', e)\n",
    "\n",
    "print('You can now download the JSON file from the link above.')"
   ]
  },
  {
   "cell_type": "code",
   "execution_count": null,
   "metadata": {},
   "outputs": [],
   "source": [
    "# Enhanced JSON and subcluster reporting (more and detailed clusters)\n",
    "import json\n",
    "from scipy.cluster.hierarchy import linkage, fcluster\n",
    "from scipy.stats import entropy\n",
    "from datetime import datetime\n",
    "\n",
    "# 1. Total sampling\n",
    "total_sampling = len(df)\n",
    "\n",
    "# 2. Clustering with more and detailed clusters\n",
    "import hdbscan\n",
    "# Lower min_cluster_size and min_samples for more/smaller clusters, increase cluster_selection_epsilon for finer splits\n",
    "clusterer = hdbscan.HDBSCAN(min_cluster_size=3, min_samples=1, cluster_selection_epsilon=0.1, gen_min_span_tree=True)\n",
    "df['cluster'] = clusterer.fit_predict(context_aware_embeddings)\n",
    "n_clusters = len(set(df['cluster'])) - (1 if -1 in df['cluster'].values else 0)\n",
    "n_novelty = (df['cluster'] == -1).sum()\n",
    "\n",
    "# 3. JSON by species\n",
    "species_groups = df.groupby('organism')\n",
    "species_json = {}\n",
    "for species, group in species_groups:\n",
    "    cluster_counts = group['cluster'].value_counts()\n",
    "    shannon_score = entropy(cluster_counts)\n",
    "    confidence_score = cluster_counts.max() / cluster_counts.sum() if cluster_counts.sum() > 0 else 0\n",
    "    locations = group[['latitude', 'longitude', 'depth']].to_dict(orient='records')\n",
    "    mean_location = group[['latitude', 'longitude', 'depth']].mean().to_dict()\n",
    "    times = [datetime.now().isoformat()] * len(group)\n",
    "    emb = context_aware_embeddings[group.index]\n",
    "    if len(emb) > 1:\n",
    "        Z = linkage(emb, method='ward')\n",
    "        # More detailed subclusters per species\n",
    "        hier_clusters = fcluster(Z, t=8, criterion='maxclust').tolist()\n",
    "    else:\n",
    "        hier_clusters = [1] * len(group)\n",
    "    species_json[species] = {\n",
    "        'shannon_score': float(shannon_score),\n",
    "        'confidence_score': float(confidence_score),\n",
    "        'mean_location': {k: float(v) for k, v in mean_location.items()},\n",
    "        'locations': locations,\n",
    "        'time_metadata': times,\n",
    "        'abundance': int(len(group)),\n",
    "        'hierarchical_clusters': hier_clusters,\n",
    "        'sequences': group['sequence'].tolist(),\n",
    "        'sequence_ids': group['Sequence_ID'].tolist(),\n",
    "        'cluster_ids': group['cluster'].tolist(),\n",
    "    }\n",
    "\n",
    "# 4. Add summary info\n",
    "summary = {\n",
    "    'total_sampling': total_sampling,\n",
    "    'total_clusters': n_clusters,\n",
    "    'total_novelty_detected': int(n_novelty)\n",
    "}\n",
    "output = {\n",
    "    'summary': summary,\n",
    "    'species': species_json\n",
    "}\n",
    "with open('species_biodiversity_report.json', 'w') as f:\n",
    "    json.dump(output, f, indent=2)\n",
    "print('✅ Enhanced JSON file \"species_biodiversity_report.json\" generated.')\n",
    "\n",
    "# 5. Find smaller clusters inside abundant clusters and save to a file\n",
    "abundant_threshold = max(8, total_sampling // 30)  # finer threshold for more subclusters\n",
    "abundant_clusters = df['cluster'].value_counts()[df['cluster'].value_counts() > abundant_threshold].index.tolist()\n",
    "small_clusters_data = {}\n",
    "for clust in abundant_clusters:\n",
    "    sub_df = df[df['cluster'] == clust]\n",
    "    if len(sub_df) > 6:\n",
    "        emb = context_aware_embeddings[sub_df.index]\n",
    "        if len(emb) > 2:\n",
    "            Z = linkage(emb, method='ward')\n",
    "            # More subclusters per abundant cluster\n",
    "            sub_labels = fcluster(Z, t=6, criterion='maxclust').tolist()\n",
    "        else:\n",
    "            sub_labels = [1] * len(sub_df)\n",
    "        small_clusters_data[int(clust)] = {\n",
    "            'main_cluster_size': len(sub_df),\n",
    "            'subcluster_labels': sub_labels,\n",
    "            'sequence_ids': sub_df['Sequence_ID'].tolist(),\n",
    "            'organisms': sub_df['organism'].tolist()\n",
    "        }\n",
    "with open('abundant_clusters_subclusters.json', 'w') as f:\n",
    "    json.dump(small_clusters_data, f, indent=2)\n",
    "print('✅ File \"abundant_clusters_subclusters.json\" with subcluster data for abundant clusters generated.')"
   ]
  },
  {
   "cell_type": "code",
   "execution_count": null,
   "metadata": {},
   "outputs": [],
   "source": [
    "# Show summary and cluster results\n",
    "from pprint import pprint\n",
    "\n",
    "# Print summary of results\n",
    "display(summary)\n",
    "print(f\"Total clusters generated: {n_clusters}\")\n",
    "print(f\"Total novelty detected (outliers): {n_novelty}\")\n",
    "\n",
    "# Show cluster sizes\n",
    "display(df['cluster'].value_counts())\n",
    "\n",
    "# Optionally, show a few example clusters and their members\n",
    "for clust_id in df['cluster'].value_counts().head(5).index:\n",
    "    print(f\"\\nCluster {clust_id} (size: {df['cluster'].value_counts()[clust_id]}):\")\n",
    "    print(df[df['cluster'] == clust_id][['Sequence_ID', 'organism']].head(5))"
   ]
  }
 ],
 "metadata": {
  "kaggle": {
   "accelerator": "gpu",
   "dataSources": [
    {
     "datasetId": 8369692,
     "sourceId": 13205881,
     "sourceType": "datasetVersion"
    },
    {
     "datasetId": 8369738,
     "sourceId": 13205951,
     "sourceType": "datasetVersion"
    },
    {
     "datasetId": 8369046,
     "sourceId": 13205998,
     "sourceType": "datasetVersion"
    }
   ],
   "dockerImageVersionId": 31090,
   "isGpuEnabled": true,
   "isInternetEnabled": true,
   "language": "python",
   "sourceType": "notebook"
  },
  "kernelspec": {
   "display_name": "Python 3",
   "language": "python",
   "name": "python3"
  },
  "language_info": {
   "codemirror_mode": {
    "name": "ipython",
    "version": 3
   },
   "file_extension": ".py",
   "mimetype": "text/x-python",
   "name": "python",
   "nbconvert_exporter": "python",
   "pygments_lexer": "ipython3",
   "version": "3.13.7"
  }
 },
 "nbformat": 4,
 "nbformat_minor": 4
}
